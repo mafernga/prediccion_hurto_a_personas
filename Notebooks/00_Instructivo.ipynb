{
  "cells": [
    {
      "cell_type": "markdown",
      "metadata": {
        "id": "GixUWPKhuu3k"
      },
      "source": [
        "# Para Ejecutar el Notebook 01_Modelo_LGBM"
      ]
    },
    {
      "cell_type": "markdown",
      "metadata": {},
      "source": [
        "Para ejecutar este notebook se debe abrir en google colab y simplemente ejecutarlo, ya que el insumo necesario para ejecutarlo se encuentra alojado en la nube"
      ]
    },
    {
      "cell_type": "markdown",
      "metadata": {},
      "source": [
        "# Para Ejecutar el Notebook 02_Red_Neuronal_CNN"
      ]
    },
    {
      "cell_type": "markdown",
      "metadata": {},
      "source": [
        "Para ejecutar este notebook, primero se debe abrir en google colab, luego se debe descargar el archivo del vector de etiquetas llamado VC_Etiquetas.xlsx que esta alojado en https://github.com/mafernga/prediccion_hurto_a_personas y subirlo al drive del usuario desde el cual se va a ejecutar el Notebook, acto seguido se deben descargar las imagenes utilizadas como insumo para entrenar la red neuronal convolucional las cuales se encuentran alojadas en Drive, para descargarlas deben ingresar a estos 2 link, en el primer link estan als imagenes de entrenamiento y en el segundo als de validacion (https://drive.google.com/drive/folders/1dmSAdow-wCWFBtvYxnJAq5NuaagIvtTY?usp=sharing) (https://drive.google.com/drive/folders/1Yo5HtVUOTCSX0OfcdGQox4GPXoTW_X2y?usp=sharing), luego estas imagenes deben subirlas al drive del usuario desde el cual se va a ejecutar el Notebook"
      ]
    }
  ],
  "metadata": {
    "accelerator": "GPU",
    "colab": {
      "collapsed_sections": [],
      "machine_shape": "hm",
      "name": "CNN.ipynb",
      "provenance": []
    },
    "kernelspec": {
      "display_name": "Python 3",
      "name": "python3"
    },
    "language_info": {
      "name": "python"
    }
  },
  "nbformat": 4,
  "nbformat_minor": 0
}
